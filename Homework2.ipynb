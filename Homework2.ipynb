{
  "nbformat": 4,
  "nbformat_minor": 0,
  "metadata": {
    "colab": {
      "name": "Homework2.ipynb",
      "provenance": [],
      "collapsed_sections": []
    },
    "kernelspec": {
      "name": "python3",
      "display_name": "Python 3"
    },
    "language_info": {
      "name": "python"
    }
  },
  "cells": [
    {
      "cell_type": "markdown",
      "metadata": {
        "id": "uPoHJYEiYUb1"
      },
      "source": [
        "# HW2 | Rebecca Dragon and Daniel Paddock\n",
        "(a) Generate training data (xi\n",
        ",yi\n",
        ") for i = 1...8 by xi ∼ Uniform([0,1]), and yi = f (xi\n",
        ")+εi\n",
        ", where\n",
        "f (x) = 1 + 2x − 2x\n",
        "**2 and εi ∼ N (0, σ2\n",
        ") and σ = 0.1. Plot the training data and the function f .\n",
        "Response:"
      ]
    },
    {
      "cell_type": "code",
      "metadata": {
        "colab": {
          "base_uri": "https://localhost:8080/",
          "height": 282
        },
        "id": "ixvtuxZmYMuJ",
        "outputId": "74f4f9bd-9fa7-4f89-8f07-c51fe5d25c6a"
      },
      "source": [
        "import numpy as np\n",
        "\n",
        "x = []\n",
        "e = []\n",
        "sigma = .1\n",
        "for i in range(1, 9):\n",
        "  x_rand = np.random.uniform(0, 1)\n",
        "  x.append(x_rand)\n",
        "  err_rand = np.random.normal(0, sigma)\n",
        "  e.append(err_rand)\n",
        "\n",
        "xarray = np.array(x)\n",
        "earray = np.array(e)\n",
        "xarray.sort()\n",
        "farray_noise = 1 + 2*xarray - 2*xarray**2 + earray\n",
        "\n",
        "s = np.random.uniform(0,1,100)\n",
        "s.sort()\n",
        "\n",
        "f_standard = 1 + 2*s - 2*s**2\n",
        "\n",
        "import matplotlib.pyplot as plt\n",
        "\n",
        "plt.plot(s, f_standard)\n",
        "plt.scatter(xarray, farray_noise, color = 'red')"
      ],
      "execution_count": null,
      "outputs": [
        {
          "output_type": "execute_result",
          "data": {
            "text/plain": [
              "<matplotlib.collections.PathCollection at 0x7f4d78885390>"
            ]
          },
          "metadata": {},
          "execution_count": 1
        },
        {
          "output_type": "display_data",
          "data": {
            "image/png": "[encoded data removed]",
            "text/plain": [
              "<Figure size 432x288 with 1 Axes>"
            ]
          },
          "metadata": {
            "needs_background": "light"
          }
        }
      ]
    },
    {
      "cell_type": "markdown",
      "metadata": {
        "id": "2ipc2YetcXN7"
      },
      "source": [
        "(b) In this problem, you will find the best fit degree d polynomial for the above data for each\n",
        "d between 0 and 7. Find it with least squares linear regression by minimizing the training\n",
        "mean squared error (MSE)\n",
        "\n",
        "\n",
        "![image.png](data:image/png;base64,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)\n",
        "\n",
        "\n",
        "using the Normal Equations. Use numpy.linalg.solve to solve the Normal Equations\n",
        "instead of computing a matrix inverse. On 8 separate plots, plot the data and the best fit\n",
        "degree-d polynomial."
      ]
    },
    {
      "cell_type": "code",
      "metadata": {
        "colab": {
          "base_uri": "https://localhost:8080/",
          "height": 265
        },
        "id": "fbtPoYbNceLA",
        "outputId": "26bafe22-f430-416e-eb6a-b29bf17bb901"
      },
      "source": [
        "\n",
        "n = 8\n",
        "mse = np.zeros(8)\n",
        "predicted_y = np.zeros(8)\n",
        "theta = []\n",
        "\n",
        "for d in range(0, n ):\n",
        "  x_plot = np.linspace(-1.5,1.5,100)\n",
        "  y = np.reshape(farray_noise, (8, 1))\n",
        "  k = d + 1\n",
        "  X = np.zeros((n, k))\n",
        "\n",
        "  for i in range(n):\n",
        "    for j in range(k):\n",
        "      X[i][j] = xarray[i]**j\n",
        "\n",
        "  aux_theta = np.linalg.solve(X.T.dot(X), X.T.dot(y))\n",
        "  theta.append(aux_theta)\n",
        "\n",
        "  # plt.figure(figsize=(5,2))\n",
        "  plt.subplot(2,4,d+1)\n",
        "\n",
        "  y_plot = aux_theta[0]*np.ones(100)\n",
        "  for i in range(1,d+1):\n",
        "    y_plot += aux_theta[i]*(x_plot**i)\n",
        "  plt.plot(x_plot, y_plot, color='green')\n",
        "  plt.scatter(x,y)\n",
        "\n",
        "  error = 0\n",
        "  for i in range(0,8):\n",
        "    predicted = 0\n",
        "    for k in range(0,d+1):\n",
        "      predicted += aux_theta[k]*(xarray[i]**k)\n",
        "    error += (y[i] - predicted)**2\n",
        "\n",
        "  mse[d] = error*0.5"
      ],
      "execution_count": null,
      "outputs": [
        {
          "output_type": "display_data",
          "data": {
            "image/png": "[encoded data removed]",
            "text/plain": [
              "<Figure size 432x288 with 8 Axes>"
            ]
          },
          "metadata": {
            "needs_background": "light"
          }
        }
      ]
    },
    {
      "cell_type": "markdown",
      "metadata": {
        "id": "Ev5_59sagKW0"
      },
      "source": [
        "(c) Plot the MSE with respect to the training data (training MSE) as a function of d. Which\n",
        "value of d provided the lowest training MSE?"
      ]
    },
    {
      "cell_type": "code",
      "metadata": {
        "id": "h1RYpc7cd_r4",
        "colab": {
          "base_uri": "https://localhost:8080/",
          "height": 282
        },
        "outputId": "0aa13740-f678-41f1-bf40-c0cc49d50ddd"
      },
      "source": [
        "plt.scatter([0,1,2,3,4,5,6,7], mse)\n",
        "plt.plot([0,1,2,3,4,5,6,7], mse)\n"
      ],
      "execution_count": null,
      "outputs": [
        {
          "output_type": "execute_result",
          "data": {
            "text/plain": [
              "[<matplotlib.lines.Line2D at 0x7f4d78376410>]"
            ]
          },
          "metadata": {},
          "execution_count": 3
        },
        {
          "output_type": "display_data",
          "data": {
            "image/png": "[encoded data removed]",
            "text/plain": [
              "<Figure size 432x288 with 1 Axes>"
            ]
          },
          "metadata": {
            "needs_background": "light"
          }
        }
      ]
    },
    {
      "cell_type": "markdown",
      "metadata": {
        "id": "AVR0dmgMgQbD"
      },
      "source": [
        "(d) Generate a test set of 1000 data points sampled according to the same process as in part (a).\n",
        "Plot the MSE with respect to the test data (test MSE) as a function of d. Which value of d\n",
        "provided the lowest test MSE?"
      ]
    },
    {
      "cell_type": "code",
      "metadata": {
        "id": "B3Kg8MtJgSGy",
        "colab": {
          "base_uri": "https://localhost:8080/",
          "height": 282
        },
        "outputId": "4a0209b9-e9a2-447c-f678-7b546dc57bc3"
      },
      "source": [
        "x_large = []\n",
        "e_large = []\n",
        "sigma = .1\n",
        "for r in range(1, 1001):\n",
        "  x_rand = np.random.uniform()\n",
        "  x_large.append(x_rand)\n",
        "\n",
        "  err_rand = np.random.normal(0, sigma)\n",
        "  e_large.append(err_rand)\n",
        "\n",
        "xarray_large = np.array(x_large)\n",
        "earray_large = np.array(e_large)\n",
        "xarray_large.sort()\n",
        "\n",
        "rand = np.random.RandomState()\n",
        "epsilon = rand.normal(0,sigma,1000) \n",
        "farray_noise_large = np.zeros(1000)\n",
        "farray_noise_large = 1+2*xarray_large-2*xarray_large**2+epsilon\n",
        "\n",
        "for d in range(0, 8):\n",
        "  error = 0\n",
        "  for i in range(0,1000):\n",
        "    predicted = 0\n",
        "    for k in range(0,d+1):\n",
        "      predicted += theta[d][k]*(xarray_large[i]**k)\n",
        "    error += (farray_noise_large[i] - predicted)**2\n",
        "  mse[d] = error*0.5\n",
        "\n",
        "plt.scatter([0,1,2,3,4,5,6,7], mse)\n",
        "plt.yscale(\"log\")\n",
        "plt.plot([0,1,2,3,4,5,6,7], mse)\n",
        "\n",
        "##### The lowest value is where d = 2 ######"
      ],
      "execution_count": null,
      "outputs": [
        {
          "output_type": "execute_result",
          "data": {
            "text/plain": [
              "[<matplotlib.lines.Line2D at 0x7f4d6feadb50>]"
            ]
          },
          "metadata": {},
          "execution_count": 5
        },
        {
          "output_type": "display_data",
          "data": {
            "image/png": "[encoded data removed]",
            "text/plain": [
              "<Figure size 432x288 with 1 Axes>"
            ]
          },
          "metadata": {
            "needs_background": "light"
          }
        }
      ]
    },
    {
      "cell_type": "markdown",
      "metadata": {
        "id": "dX529ZK5ezCj"
      },
      "source": [
        "(a) Repeat 1b for d = 1 but solve (1) with gradient descent using TensorFlow or comparable\n",
        "software. Plot the data and resulting best fit line, and plot the training MSE versus epoch\n",
        "number. An epoch occurs when you iterate through the whole training dataset once. You\n",
        "may find Sections 3.1–3.3 in Mattman helpful for setting up your code."
      ]
    },
    {
      "cell_type": "code",
      "metadata": {
        "id": "dSlGvFOifprS",
        "colab": {
          "base_uri": "https://localhost:8080/"
        },
        "outputId": "c5e75b35-350e-437e-da34-2eee94e6d884"
      },
      "source": [
        "# Generate x\n",
        "# Generate e \n",
        "# Generate y\n",
        "import numpy as np\n",
        "\n",
        "x = []\n",
        "e = []\n",
        "sigma = .1\n",
        "for i in range(1, 9):\n",
        "\n",
        "  x_rand = np.random.uniform(0, 1)\n",
        "  x.append(x_rand)\n",
        "\n",
        "  err_rand = np.random.normal(0, sigma)\n",
        "  e.append(err_rand)\n",
        "\n",
        "xarray = np.array(x)\n",
        "earray = np.array(e)\n",
        "\n",
        "xarray.sort()\n",
        "\n",
        "farray_noise = 1 + 2*xarray - 2*xarray**2 + earray\n",
        "\n",
        "\n",
        "\n",
        "s = np.random.uniform(0,1,100)\n",
        "\n",
        "\n",
        "\n",
        "\n",
        "s.sort()\n",
        "\n",
        "f_standard = 1 + 2*s - 2*s**2\n",
        "\n",
        "\n",
        "%tensorflow_version 1.x\n",
        "import tensorflow as tf\n",
        "\n",
        "train_X = xarray\n",
        "train_Y = farray_noise\n",
        "\n",
        "optimizer = tf.train.GradientDescentOptimizer(0.1)\n",
        "x = tf.placeholder(tf.float32, shape=(None, ), name='x')\n",
        "y = tf.placeholder(tf.float32, shape=(None, ), name='y')\n",
        "w = tf.Variable(np.random.normal(), name='W')\n",
        "b = tf.Variable(np.random.normal(), name='b')\n",
        "loss = tf.reduce_mean(tf.square((w*x+b) - y))\n",
        "op = optimizer.minimize(loss)\n",
        "\n",
        "with tf.Session() as session:\n",
        "  session.run(tf.global_variables_initializer())\n",
        "  data = {x: xarray, y: farray_noise}\n",
        "  \n",
        "  mse = []\n",
        "  for i in range(1000):\n",
        "    session.run(op, data)\n",
        "    error = loss.eval(data)\n",
        "    mse.append(error)\n",
        "\n",
        "\n",
        "  \n",
        "  y_pred_batch = session.run(w*x+b, {x : xarray})\n",
        "\n",
        "\n"
      ],
      "execution_count": null,
      "outputs": [
        {
          "output_type": "stream",
          "name": "stdout",
          "text": [
            "TensorFlow 1.x selected.\n"
          ]
        }
      ]
    },
    {
      "cell_type": "code",
      "metadata": {
        "colab": {
          "base_uri": "https://localhost:8080/",
          "height": 282
        },
        "id": "Hi3PIuftDqq8",
        "outputId": "d9e44917-71cd-4bc0-a699-4344b676093c"
      },
      "source": [
        "## Print the generated line\n",
        "\n",
        "init = tf.compat.v1.global_variables_initializer()\n",
        "\n",
        "\n",
        "\n",
        "# print(w)\n",
        "\n",
        "plt.scatter(xarray, farray_noise)\n",
        "plt.plot(xarray, y_pred_batch, color='red')\n"
      ],
      "execution_count": null,
      "outputs": [
        {
          "output_type": "execute_result",
          "data": {
            "text/plain": [
              "[<matplotlib.lines.Line2D at 0x7f4d6ff11090>]"
            ]
          },
          "metadata": {},
          "execution_count": 7
        },
        {
          "output_type": "display_data",
          "data": {
            "image/png": "[encoded data removed]",
            "text/plain": [
              "<Figure size 432x288 with 1 Axes>"
            ]
          },
          "metadata": {
            "needs_background": "light"
          }
        }
      ]
    },
    {
      "cell_type": "code",
      "metadata": {
        "colab": {
          "base_uri": "https://localhost:8080/",
          "height": 282
        },
        "id": "njs525faDvkr",
        "outputId": "4722c7f3-4814-48a9-aa83-7edb0932f561"
      },
      "source": [
        "## Print MSE Converging to 0 with epochs\n",
        "\n",
        "plt.plot(range(1000), mse)"
      ],
      "execution_count": null,
      "outputs": [
        {
          "output_type": "execute_result",
          "data": {
            "text/plain": [
              "[<matplotlib.lines.Line2D at 0x7f4d6ffdc250>]"
            ]
          },
          "metadata": {},
          "execution_count": 8
        },
        {
          "output_type": "display_data",
          "data": {
            "image/png": "[encoded data removed]",
            "text/plain": [
              "<Figure size 432x288 with 1 Axes>"
            ]
          },
          "metadata": {
            "needs_background": "light"
          }
        }
      ]
    }
  ]
}